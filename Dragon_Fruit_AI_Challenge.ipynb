{
 "cells": [
  {
   "cell_type": "markdown",
   "id": "2c6ef26a-ccb5-4b3b-a5f9-d37c2f406b1e",
   "metadata": {},
   "source": [
    "All the questions are answered in this notebook itself as part of DragonFruit AI challenge. The notebook has supporting text and comments for explanation and all the code listed below are runnable. </br>\n",
    "Thanks for providing me with this opportunity"
   ]
  },
  {
   "cell_type": "markdown",
   "id": "f06596c7-c0a1-4d28-b271-a38e7dbba513",
   "metadata": {},
   "source": [
    "## Question 1"
   ]
  },
  {
   "cell_type": "markdown",
   "id": "94f3da0c-a99f-4f6c-b82b-1f63e43eb50f",
   "metadata": {},
   "source": [
    "#### RLE for Microscope Image\n",
    "\n",
    "The microscope image of the parasite is defined as a contiguous blob but still an arbitrary shape, the best after-data structure that I could come up with after much research is Run Length Encoding. </br>\n",
    "Given a string such as MIIICCCRROO - can be represented as M1I3C3R2O2 when we apply RLE, which is basically we keep track of repeated continuous elements followed by length it occupies. In our case as we have continuous representation and that two just two values 0(background) and 1(parasite), It makes the storage of such a large image highly memory efficient. Now let's look at the Best and Worst Time complexity.</br>\n",
    "Best Case : </br>\n",
    "Assuming the best case as a more realistically contiguous area rather than a perfect square, with 2 entries per row for 100,000 rows:\n",
    "8 bytes * 2 entries/row * 100,000 rows = 1,600,000 bytes or approximately 1.53 MB. </br>\n",
    "Worst Case : </br>\n",
    "If we estimate, for example, that the parasite winds through each row of the image, it could potentially double the entries needed,  there will be 100,000 elements in the RLE data - </br>\n",
    "8 bytes * 4 entries/row * 100,000 rows = 3,200,000 bytes or approximately 3.05 MB. This is still an efficient representation given the image's size 100000x100000.\n"
   ]
  },
  {
   "cell_type": "code",
   "execution_count": 25,
   "id": "b0d6b7c1-6ccd-49ac-a3b2-7d9cc50c6c33",
   "metadata": {},
   "outputs": [],
   "source": [
    "def rle_encode(image):\n",
    "    \n",
    "    encoded_image = {}\n",
    "    for row_idx, row in enumerate(image):\n",
    "        encoded_row = []\n",
    "        prev_value = row[0]\n",
    "        start = 0  # Starting index of a sequence\n",
    "        for i in range(1, len(row)):\n",
    "            if row[i] != prev_value:\n",
    "                if prev_value == 1:  # Encode sequences of '1's\n",
    "                    encoded_row.append((start, i - start))\n",
    "                start = i  # Update the start for the new sequence\n",
    "                prev_value = row[i]\n",
    "        # Handle the last sequence in the row\n",
    "        if prev_value == 1:\n",
    "            encoded_row.append((start, len(row) - start))\n",
    "        # Only add non-empty encoded rows\n",
    "        if encoded_row:\n",
    "            encoded_image[row_idx] = encoded_row\n",
    "    \n",
    "    return encoded_image"
   ]
  },
  {
   "cell_type": "markdown",
   "id": "a7087ba6-baa1-4ccf-b3fc-5af3decbcf2d",
   "metadata": {},
   "source": [
    "If the image 100,000 x 100,000 was provided in form of Tiff or available as an matrix hosted on cloud this is how I would have handled. Though RLE is efficient method to optimize storage, but when you apply for it first time and in worst case you gotta traverse each row of image, the code will run into TLE hence better to parrallize the rle_encoding function thats what here i have demonstrated. Similar approach I have taken for Dye image"
   ]
  },
  {
   "cell_type": "markdown",
   "id": "bb59c1a7-6417-4bac-8d92-469b6d0c5c1d",
   "metadata": {},
   "source": [
    "#### Parallelization RLE encoding if we were given image straighaway on cloud or as Tiff and had to convert to RLE\n",
    "\n",
    "We will divide entire image into segments of heights 10,000 and iterating rows, for each segment we will perform RLE encoding parallely"
   ]
  },
  {
   "cell_type": "code",
   "execution_count": 13,
   "id": "16ecf67a-9fc3-420f-be2b-d614b772f9c6",
   "metadata": {},
   "outputs": [
    {
     "name": "stderr",
     "output_type": "stream",
     "text": [
      "2024-03-28 21:54:51,721 - INFO - Segment starting at row 0 processed successfully.\n",
      "2024-03-28 21:55:30,084 - INFO - Segment starting at row 10000 processed successfully.\n",
      "2024-03-28 21:55:57,674 - INFO - Segment starting at row 20000 processed successfully.\n",
      "2024-03-28 21:56:29,229 - INFO - Segment starting at row 30000 processed successfully.\n",
      "2024-03-28 21:57:00,590 - INFO - Segment starting at row 40000 processed successfully.\n",
      "2024-03-28 21:57:31,816 - INFO - Segment starting at row 50000 processed successfully.\n",
      "2024-03-28 21:58:01,873 - INFO - Segment starting at row 60000 processed successfully.\n",
      "2024-03-28 21:58:38,887 - INFO - Segment starting at row 70000 processed successfully.\n",
      "2024-03-28 21:59:13,691 - INFO - Segment starting at row 80000 processed successfully.\n",
      "2024-03-28 21:59:34,451 - INFO - Segment starting at row 90000 processed successfully.\n",
      "2024-03-28 21:59:35,190 - INFO - Execution time: 330.87690258026123 seconds\n"
     ]
    },
    {
     "name": "stdout",
     "output_type": "stream",
     "text": [
      "{6000: [(2000, 500)], 14000: [(600, 200)], 99997: [(70000, 25000)]}\n"
     ]
    }
   ],
   "source": [
    "import logging\n",
    "from concurrent.futures import ProcessPoolExecutor, as_completed\n",
    "import numpy as np\n",
    "import time\n",
    "\n",
    "# Setup basic configuration for logging\n",
    "logging.basicConfig(level=logging.INFO, format='%(asctime)s - %(levelname)s - %(message)s')\n",
    "\n",
    "def rle_encode_segment(image, start_row, segment_height):\n",
    "  \n",
    "    rle_segment = {}\n",
    "    end_row = start_row + segment_height\n",
    "    \n",
    "    for row_idx in range(start_row, min(end_row, len(image))):\n",
    "        row = image[row_idx]\n",
    "        if len(row) and np.sum(row)==0:  # Skip empty rows\n",
    "            continue\n",
    "        \n",
    "        encoded_row = []\n",
    "        prev_value = row[0]\n",
    "        length = 1\n",
    "        \n",
    "        for i in range(1, len(row)):\n",
    "            if row[i] == prev_value:\n",
    "                length += 1\n",
    "            else:\n",
    "                if prev_value == 1:  # Only encode sequences of 1s\n",
    "                    encoded_row.append((i - length, length))\n",
    "                prev_value = row[i]\n",
    "                length = 1\n",
    "        # Handle the last sequence in the row\n",
    "        if prev_value == 1:\n",
    "            encoded_row.append((len(row) - length, length))\n",
    "        \n",
    "        if encoded_row:  # Only add non-empty encoded rows\n",
    "            rle_segment[row_idx] = encoded_row\n",
    "    \n",
    "    return rle_segment\n",
    "\n",
    "\n",
    "\n",
    "def main():\n",
    "    image_height=100000\n",
    "    image_width=1000000\n",
    "    segment_height=10000\n",
    "    # DUMMY IMAGE\n",
    "    img = np.zeros((100000, 100000), dtype=np.uint8)\n",
    "    img[6000, 2000:2500] = 1\n",
    "    img[14000, 600:800] = 1\n",
    "    img[99997, 70000:95000] = 1\n",
    "    segment_starts = range(0, image_height, segment_height)\n",
    "    combined_rle_data = {}\n",
    "\n",
    "    with ProcessPoolExecutor(max_workers=5) as executor:\n",
    "        ## parallelize rle_encode_segment\n",
    "        futures = {executor.submit(rle_encode_segment, img, start, segment_height): start for start in segment_starts}\n",
    "        \n",
    "        for future in as_completed(futures):\n",
    "            start_row = futures[future]\n",
    "            try:\n",
    "                data = future.result()\n",
    "                combined_rle_data.update(data)\n",
    "                logging.info(f\"Segment starting at row {start_row} processed successfully.\")\n",
    "            except Exception as exc:\n",
    "                logging.error(f\"Segment starting at row {start_row} generated an error: {exc}\")\n",
    "\n",
    "    return combined_rle_data\n",
    "\n",
    "\n",
    "if __name__ == '__main__':\n",
    "    combined_rle_data = main()\n",
    "    print(combined_rle_data)"
   ]
  },
  {
   "cell_type": "markdown",
   "id": "d2363bca-7e99-4eb8-b05e-6e6d121e8a40",
   "metadata": {},
   "source": [
    "#### COO for Dye Image"
   ]
  },
  {
   "cell_type": "markdown",
   "id": "518e3c29-6e59-4132-9ec0-31fd36cad5d8",
   "metadata": {},
   "source": [
    "Given the dye image is not necessarily continuous and occupy very less space in the entire image, its nearly sparse. So a better data structure to represent it will be a COO (Coordinate List). That is for each cell value as 1, will be saved as (row,col) in a list or a dictionary where keys are rows and cols as values which are lit/dyed. </br>\n",
    "\n",
    "Row index: 4 bytes (32-bit integer)\n",
    "Column index: 4 bytes (32-bit integer)\n",
    "Total per non-zero element: 4 (row index) + 4 (column index) = 8 bytes </br>\n",
    "Worst Case - For a fully dense 100,000x100,000 image where every element is non-zero, the total number of non-zero elements equals the total number of elements in the matrix, which is 100,000 * 100,000 = 10,000,000,000 non-zero elements.\n",
    "The storage requirement would be 8 bytes * 10,000,000,000 = 80,000,000,000 bytes, or approximately 74.51 GB."
   ]
  },
  {
   "cell_type": "code",
   "execution_count": 16,
   "id": "6af90fd6-257e-4b3c-8ef1-4ccff67b50a4",
   "metadata": {},
   "outputs": [],
   "source": [
    "import numpy as np\n",
    "\n",
    "def COO(image):\n",
    "    COO_dict = {}\n",
    "    for row_index in range(image.shape[0]):\n",
    "        cols = np.where(image[row_index] == 1)[0].tolist()\n",
    "        if cols:  # Only add to dictionary if there are columns with value 1\n",
    "            COO[row_index] = cols\n",
    "    return COO_dict\n",
    "\n"
   ]
  },
  {
   "cell_type": "markdown",
   "id": "b3719265-62db-42ee-89be-3c04ba691c65",
   "metadata": {},
   "source": [
    "#### Parallelization to Convert given image via tiff or hosted on cloud to COO Data Structure form\n",
    "\n",
    "We will divide entire image into segments of heights 10,000 and iterating rows, for each segment we will perform COO encoding parallely"
   ]
  },
  {
   "cell_type": "code",
   "execution_count": 20,
   "id": "29a17cc4-5470-4b1e-9f55-6878ec490c5b",
   "metadata": {},
   "outputs": [
    {
     "name": "stderr",
     "output_type": "stream",
     "text": [
      "2024-03-28 23:45:06,457 - INFO - Segment (0, 10000) processed successfully.\n",
      "2024-03-28 23:45:12,396 - INFO - Segment (10000, 20000) processed successfully.\n",
      "2024-03-28 23:45:18,231 - INFO - Segment (20000, 30000) processed successfully.\n",
      "2024-03-28 23:45:24,057 - INFO - Segment (30000, 40000) processed successfully.\n",
      "2024-03-28 23:45:29,880 - INFO - Segment (40000, 50000) processed successfully.\n",
      "2024-03-28 23:45:35,686 - INFO - Segment (50000, 60000) processed successfully.\n",
      "2024-03-28 23:45:41,511 - INFO - Segment (60000, 70000) processed successfully.\n",
      "2024-03-28 23:45:47,315 - INFO - Segment (70000, 80000) processed successfully.\n",
      "2024-03-28 23:45:53,125 - INFO - Segment (80000, 90000) processed successfully.\n",
      "2024-03-28 23:45:58,893 - INFO - Segment (90000, 100000) processed successfully.\n"
     ]
    },
    {
     "name": "stdout",
     "output_type": "stream",
     "text": [
      "Found 1000 non-zero elements.\n",
      "Sample non-zero coordinates: [(21, 7808), (78, 8882), (289, 8340), (404, 18154), (475, 67184), (485, 62548), (614, 15331), (719, 50254), (806, 73291), (1074, 35337)]\n"
     ]
    }
   ],
   "source": [
    "import numpy as np\n",
    "from concurrent.futures import ProcessPoolExecutor, as_completed\n",
    "import time\n",
    "import logging\n",
    " \n",
    "\n",
    "# Setup basic configuration for logging\n",
    "logging.basicConfig(level=logging.INFO, format='%(asctime)s - %(levelname)s - %(message)s')\n",
    "\n",
    "def find_non_zero_in_segment(segment):\n",
    "    non_zero_indices = np.argwhere(segment)\n",
    "    return non_zero_indices\n",
    "\n",
    "def main():\n",
    "    \"\"\"Divide the matrix into horizontal segments and find non-zero elements in parallel.\"\"\"\n",
    "    \n",
    "    num_segments = 10\n",
    "    image_size = 100000\n",
    "    #DUMMY IMAGE (Image on cloud or tiff file)\n",
    "    image = np.zeros((image_size, image_size), dtype=np.uint8)\n",
    "\n",
    "    # Number of ones to place in the image\n",
    "    num_ones = 1000  # Example: placing 1000 ones\n",
    "\n",
    "    # Generate random positions for the ones\n",
    "    rows = np.random.randint(0, image_size, size=num_ones)\n",
    "    cols = np.random.randint(0, image_size, size=num_ones)\n",
    "\n",
    "    # Place the ones in the image\n",
    "    image[rows, cols] = 1\n",
    "    matrix = image\n",
    "    segment_height = matrix.shape[0] // num_segments\n",
    "    segments = [(i * segment_height, (i + 1) * segment_height) for i in range(num_segments)]\n",
    "\n",
    "    results = []\n",
    "    with ProcessPoolExecutor(max_workers=1) as executor:\n",
    "        # Launch parallel tasks\n",
    "        futures = {executor.submit(find_non_zero_in_segment, matrix[start_row:end_row, :]): (start_row, end_row)\n",
    "                   for start_row, end_row in segments}\n",
    "\n",
    "        # Gather results\n",
    "        for future in as_completed(futures):\n",
    "            segment_info = futures[future]  \n",
    "            try:\n",
    "                non_zero_indices = future.result()\n",
    "                # Adjust indices based on the segment's position in the original matrix\n",
    "                adjusted_indices = [(r + segment_info[0], c) for r, c in non_zero_indices]\n",
    "                results.extend(adjusted_indices)\n",
    "                logging.info(f\"Segment {segment_info} processed successfully.\")\n",
    "            except Exception as exc:\n",
    "                logging.error(f\"Segment {segment_info} generated an error: {exc}\")\n",
    "\n",
    "    return results\n",
    "\n",
    "if __name__ == '__main__':\n",
    "    non_zero_coordinates = main()\n",
    "    print(f\"Found {len(non_zero_coordinates)} non-zero elements.\")\n",
    "    print(\"Sample non-zero coordinates:\", non_zero_coordinates[:10])\n",
    "\n",
    "\n",
    "\n"
   ]
  },
  {
   "cell_type": "markdown",
   "id": "2ca64fbf-d460-4181-b565-e5667d41df44",
   "metadata": {},
   "source": [
    "## Question 2"
   ]
  },
  {
   "cell_type": "markdown",
   "id": "19f0b989-2aa8-4274-8bdf-68b5e506c794",
   "metadata": {},
   "source": [
    "#### Realistic Microscope Image Generator"
   ]
  },
  {
   "cell_type": "markdown",
   "id": "dc06e613-70d3-411e-92d5-8dc49d504fa1",
   "metadata": {},
   "source": [
    "To simulate how a parasite spreads, I initially tried allowing it to move in all directions from a starting point. But this method took too much computer power. So, I changed the approach to make the parasite take bigger steps in any direction, picking which way to go randomly. However, this was still too demanding on the computer. To simplify, I decided the parasite pixels should only move in two directions (left or right) and switch between these after moving a good distance. After being done with a row, I return RLE encoding for that row(start,end). This would still generate a realistic parasite image and which is contonous. To figure out how far it should go in a direction, I used the total area the parasite needs to cover and divided it by the number of rows from where the parasite starts to where it ends. This meant setting a minimum length for each part of its path, starting and ending these parts randomly (start at top half and end at bottom half) but within a framework that allowed for direction changes after significant progress. This method made the simulation much easier for the computer to handle, effectively showing how the parasite would spread."
   ]
  },
  {
   "cell_type": "code",
   "execution_count": 20,
   "id": "eaa7464e-b961-4e35-a55f-8cae4cf66e74",
   "metadata": {},
   "outputs": [],
   "source": [
    "import random\n",
    "import math\n",
    "\n",
    "def decide_walk_direction():\n",
    "    \"\"\"Decides the direction of growth for the parasite.\"\"\"\n",
    "    #return random.choice(['left', 'right', 'bottom', 'top'])\n",
    "    return random.choice(['left', 'right'])\n",
    "\n",
    "def calculate_segment_size(target_area, rows):\n",
    "    \"\"\"Calculates the minimum segment size based on the target area and the number of rows.\"\"\"\n",
    "    return math.ceil(target_area / rows)\n",
    "\n",
    "def generate_parasite_segment(start, end, direction, size, min_segment_size):\n",
    "    \"\"\"Generates a segment of the parasite based on the given direction, ensuring it meets the minimum segment size.\"\"\"\n",
    "    segment_start, segment_end = 0, 0\n",
    "    segment_length = 0\n",
    "\n",
    "    while segment_length < min_segment_size:\n",
    "        if direction == 'right':\n",
    "            segment_start = random.randint(0, size - min_segment_size)\n",
    "            segment_end = min(segment_start + min_segment_size + random.randint(0, size - segment_start - min_segment_size), size)\n",
    "        else:  # direction == 'left'\n",
    "            segment_end = random.randint(min_segment_size, size) - 1\n",
    "            segment_start = max(0, segment_end - min_segment_size - random.randint(0, segment_end))\n",
    "\n",
    "        if segment_end == size:\n",
    "            segment_end = segment_end - 1\n",
    "            break\n",
    "        segment_length = segment_end - segment_start + 1\n",
    "        #direction top\n",
    "        #direction bottom\n",
    "    #RLE start end point return for a row\n",
    "    return segment_start, segment_end\n",
    "\n",
    "def Microscope_Image_Generator(size=100000):\n",
    "    target_area = size * size * 0.25\n",
    "    start_row = random.randint(0, size//2) #choose a random starting point from first half\n",
    "    end_row = random.randint(start_row + size//2, size-1) #choose a random ending point from second half\n",
    "    total_covered_area = 0\n",
    "    image = [[] for _ in range(size)]\n",
    "\n",
    "    for row in range(start_row, end_row):\n",
    "        direction = decide_walk_direction()\n",
    "        min_segment_size = calculate_segment_size(target_area, end_row - start_row)\n",
    "        segment_start, segment_end = generate_parasite_segment(row, end_row, direction, size, min_segment_size)\n",
    "        total_covered_area += segment_end - segment_start + 1\n",
    "        #Applying RLE along the rows\n",
    "        image[row].extend([segment_start, segment_end])\n",
    "\n",
    "    covered_ratio = total_covered_area / (size * size)\n",
    "    return image, covered_ratio\n",
    "\n",
    "\n"
   ]
  },
  {
   "cell_type": "markdown",
   "id": "b565afdd-6c34-48cf-8374-16d7b5dc78b1",
   "metadata": {},
   "source": [
    "#### DYE IMAGE GENERATOR\n",
    "To create a realistic dye image, I couldn't just randomly place dye points; it had to make sense with the underlying structure of the parasite as observed under the microscope. So, starting with the microscope image in RLE format, I chose a few rows at random. In each selected row, I then randomly picked points to apply dye (Enforced a 80% bias to speed up computation but sampling made sure the dye points are not continous), continuing this process until the dye coverage matched the expected concentration within the parasite area.\r\n"
   ]
  },
  {
   "cell_type": "code",
   "execution_count": 9,
   "id": "54d06e51-d947-4c24-a47c-9c47786034f4",
   "metadata": {},
   "outputs": [],
   "source": [
    "import random\n",
    "\n",
    "def generate_dye_image(microscope_image, image_size, has_cancer):\n",
    "    dye_image = {} # to store coordinates\n",
    "\n",
    "    # Define the base concentration range. Adjust these values based on your needs.\n",
    "    base_concentration_range = (0.01, 0.10) if not has_cancer else (0.11, 0.20)\n",
    "    \n",
    "    # Extract non-empty segments from the microscope image\n",
    "    non_empty_segments = [(row_idx, segment[0], segment[1]) for row_idx, segment in enumerate(microscope_image) if segment]\n",
    "    \n",
    "    # Calculate the total area of the parasite\n",
    "    total_parasite_area = sum(segment_end - segment_start + 1 for _, segment_start, segment_end in non_empty_segments)\n",
    "    \n",
    "    # Calculate the desired dye coverage based on the total area and selected concentration\n",
    "    desired_dye_coverage = int(total_parasite_area * random.uniform(*base_concentration_range))\n",
    "    \n",
    "    applied_dye_count = 0\n",
    "    while applied_dye_count < desired_dye_coverage:\n",
    "        row, start, end = random.choice(non_empty_segments)\n",
    "        segment_length = end - start + 1\n",
    "        # Make sure to consider 80 percent of points atleast from original parasite, just to speed up simulation, else it runs too slow\n",
    "        points_to_apply = random.randint(int(segment_length * 0.8), segment_length)\n",
    "        selected_points = random.sample(range(start, end + 1), min(points_to_apply, desired_dye_coverage - applied_dye_count))\n",
    "        \n",
    "        dye_image.setdefault(row, []).extend(selected_points)\n",
    "        applied_dye_count += len(selected_points)\n",
    "\n",
    "    # Simulate leakage outside the parasite body\n",
    "    # 0.001 * 100,000\n",
    "    leakage_attempts = random.randint(0, 100)\n",
    "    while leakage_attempts > 0:\n",
    "        row = random.randint(0, image_size - 1)\n",
    "        col = random.randint(0, image_size - 1)\n",
    "        if len(microscope_image[row]) > 0:\n",
    "            start, end = microscope_image[row]\n",
    "            if not start <= col <= end:\n",
    "                dye_image.setdefault(row, []).append(col)\n",
    "                applied_dye_count += 1\n",
    "        leakage_attempts -= 1\n",
    "\n",
    "    return dye_image\n",
    "\n",
    "\n",
    "\n"
   ]
  },
  {
   "cell_type": "markdown",
   "id": "da7f90ea-22e3-449f-907e-fd8e42a1454b",
   "metadata": {},
   "source": [
    "## Question 3"
   ]
  },
  {
   "cell_type": "markdown",
   "id": "b4f39cd3-a25c-483d-9dbd-910c6119a35f",
   "metadata": {},
   "source": [
    "To detect cancer, I iterated each row (key in dye representation) where dye was present and checked if the dye points fell within the parasite's area, as indicated in the microscope image. For every matching point, I incremented a count. After going through all the dye-covered rows, I calculated the percentage of the parasite area covered by dye. If the coverage exceeded 10%, I identified it as a case of cancer. This method effectively assesses the spread of dye within the parasite, aiding in the accurate detection of cancerous cells."
   ]
  },
  {
   "cell_type": "code",
   "execution_count": 63,
   "id": "d1bb8eb1-2607-4077-8800-61075ed563f3",
   "metadata": {},
   "outputs": [],
   "source": [
    "def detect_cancer(microscopic_image, dye_image):\n",
    "    non_empty_segments = [(row, seg[0], seg[1]) for row, seg in enumerate(microscopic_image) if seg]\n",
    "\n",
    "    parasite_area = sum(end - start + 1 for _, start, end in non_empty_segments)\n",
    "    \n",
    "    dye_covered_area = 0\n",
    "    for row, cols in dye_image.items():\n",
    "        if len(microscopic_image[row])>0:\n",
    "            \n",
    "            start, end = microscopic_image[row]\n",
    "            for col in cols:\n",
    "                if start <= col <= end :\n",
    "                    dye_covered_area += 1\n",
    "\n",
    "    coverage_ratio = dye_covered_area / parasite_area if parasite_area > 0 else 0\n",
    "\n",
    "    return coverage_ratio > 0.1\n"
   ]
  },
  {
   "cell_type": "markdown",
   "id": "cdf525b1-b7df-410b-9aed-c97286529fc3",
   "metadata": {},
   "source": [
    "## Question 4"
   ]
  },
  {
   "cell_type": "markdown",
   "id": "80f6dbcd-5d7c-4240-8c5b-75eeda34666c",
   "metadata": {},
   "source": [
    "For an enhanced cancer detection method, I considered create a binary vector, where '1' indicates the presence of dye or the microscope's parasite area, and '0' signifies their absence for each row. By performing logiclal_AND for each corresponding row vector of the parasite area and the dye points, I was able to identify the intersection points where dye is present within the parasite. Summing up these intersection points across all rows gave me the total area covered by dye within the parasite. By comparing this total dyed area against the overall parasite area and checking if the coverage exceeds 10%, I could efficiently determine the presence of cancer. "
   ]
  },
  {
   "cell_type": "code",
   "execution_count": 12,
   "id": "799a58ed-8e8a-49c0-8b31-bb8ed000f861",
   "metadata": {},
   "outputs": [],
   "source": [
    "import numpy as np\n",
    "\n",
    "def create_binary_row_for_microscope(row_segments, size=100000):\n",
    "    row_image = np.zeros(size, dtype=int)\n",
    "    start, end = row_segments\n",
    "    #print(start,end)\n",
    "    row_image[start:end + 1] = 1\n",
    "    return row_image\n",
    "\n",
    "\n",
    "def create_binary_row_for_dye(cols, size=100000):\n",
    "    row_image = np.zeros(size, dtype=int)\n",
    "    row_image[cols] = 1\n",
    "    return row_image\n",
    "\n",
    "def improved_detect_cancer(microscopic_image, dye_image, size=100000):\n",
    "    total_parasite_area = 0\n",
    "    dye_covered_area = 0\n",
    "\n",
    "    for row_idx, segments in enumerate(microscopic_image):\n",
    "        # Create binary representation for the microscope row\n",
    "        #print(row_idx)\n",
    "        if len(segments) > 0 :\n",
    "            micro_row_image = create_binary_row_for_microscope(segments, size)\n",
    "            total_parasite_area += micro_row_image.sum()\n",
    "    \n",
    "            # Create binary representation for the dye row if it exists in the dye_image\n",
    "            if row_idx in dye_image:\n",
    "                dye_row_image = create_binary_row_for_dye(dye_image[row_idx], size)\n",
    "                # Compute intersection\n",
    "                intersection = np.logical_and(micro_row_image, dye_row_image)\n",
    "                dye_covered_area += intersection.sum()\n",
    "\n",
    "    coverage_ratio = dye_covered_area / total_parasite_area if total_parasite_area > 0 else 0\n",
    "\n",
    "\n",
    "    return coverage_ratio > 0.1\n"
   ]
  },
  {
   "cell_type": "markdown",
   "id": "079bb072-28f8-4a30-a173-2dcf3a95a3d2",
   "metadata": {},
   "source": [
    "## Question 5"
   ]
  },
  {
   "cell_type": "markdown",
   "id": "e276ac5b-8010-48cf-a6ab-4ae2ee1e64d0",
   "metadata": {},
   "source": [
    "#### Alternative Techniques for Microscope"
   ]
  },
  {
   "cell_type": "markdown",
   "id": "4a0a3e36-7eeb-437b-9efb-e86222ef26b5",
   "metadata": {},
   "source": [
    "Boundary Representation (B-Rep): </br>\n",
    "For images where the parasite forms a continuous shape, storing just the boundaries of these shapes can be more efficient than storing information about every pixel inside. \n",
    "Although it will be highly compressed in compariosn to RLE as we will just save boundary, However computing the exact boundary will be complex, maybe algorithms like Canny edge detector might come in handy."
   ]
  },
  {
   "cell_type": "markdown",
   "id": "d3e81b42-64f0-43f0-9235-20a88e3d4c9a",
   "metadata": {},
   "source": [
    "#### Alternative Techniques for Dye Image"
   ]
  },
  {
   "cell_type": "markdown",
   "id": "ff0ec2e5-b171-4193-bdd2-69fec1470957",
   "metadata": {},
   "source": [
    "Quadtree for Dye Image :\n",
    "A quadtree is a tree data structure in which each node has exactly four children. Quadtrees are particularly suited for partitioning a two-dimensional space by recursively subdividing it into four quadrants or regions. \n",
    "Quadtrees can adaptively represent the image by subdividing regions with high dye concentration (i.e., the parasite body) into smaller cells, while using larger cells for regions with low or no dye (i.e., the background). This allows for a compact representation that focuses storage on the areas of interest.\n",
    "It is very efficient in both storage and querying. However while construction for such a large image was getting computationally expensive on my pc so I had to resort to COO, but it is much better representation for Dye image.\n"
   ]
  },
  {
   "cell_type": "code",
   "execution_count": 25,
   "id": "e51c940b-faea-4d20-aad2-f53208b9c7f7",
   "metadata": {},
   "outputs": [],
   "source": [
    "class QuadTreeNode:\n",
    "    def __init__(self, x, y, size, color):\n",
    "        self.x = x\n",
    "        self.y = y\n",
    "        self.size = size\n",
    "        self.color = color\n",
    "        self.children = [None, None, None, None]\n",
    "\n",
    "    def is_leaf(self):\n",
    "        return all(child is None for child in self.children)\n",
    "\n",
    "    def split(self):\n",
    "        half_size = self.size // 2\n",
    "        self.children = [\n",
    "            QuadTreeNode(self.x, self.y, half_size, self.color),\n",
    "            QuadTreeNode(self.x + half_size, self.y, half_size, self.color),\n",
    "            QuadTreeNode(self.x, self.y + half_size, half_size, self.color),\n",
    "            QuadTreeNode(self.x + half_size, self.y + half_size, half_size, self.color)\n",
    "        ]\n",
    "\n",
    "    def __str__(self):\n",
    "        return f\"Node(x={self.x}, y={self.y}, size={self.size}, color={self.color})\"\n",
    "\n",
    "def build_quadtree(image, min_size=1):\n",
    "    def _build_quadtree(x, y, size):\n",
    "        if size < min_size:\n",
    "            return QuadTreeNode(x, y, size, image[y][x])\n",
    "\n",
    "        half_size = size // 2\n",
    "        node = QuadTreeNode(x, y, size, image[y][x])\n",
    "\n",
    "        # Check if the node should be split\n",
    "        if any(image[y][x] != image[y2][x2] for y2 in range(y, y + size) for x2 in range(x, x + size)):\n",
    "            node.split()\n",
    "            for i in range(4):\n",
    "                child_x = x + (i % 2) * half_size\n",
    "                child_y = y + (i // 2) * half_size\n",
    "                node.children[i] = _build_quadtree(child_x, child_y, half_size)\n",
    "\n",
    "        return node\n",
    "\n",
    "    return _build_quadtree(0, 0, len(image))\n",
    "\n",
    "\n",
    "\n",
    "#root = build_quadtree(image)\n",
    "\n",
    "def find_regions_with_ones(node):\n",
    "    regions = []\n",
    "\n",
    "    if node.is_leaf():\n",
    "        if node.color == 1:\n",
    "            regions.append((node.x, node.y, node.size, node.size))\n",
    "        return regions\n",
    "\n",
    "    for child in node.children:\n",
    "        if child is not None:\n",
    "            regions.extend(find_regions_with_ones(child))\n",
    "\n",
    "    return regions\n",
    "\n",
    "\n",
    "####### Dummy Image\n",
    "image = [\n",
    "    [0, 0, 0, 1, 1, 1, 1, 0],\n",
    "    [0, 0, 0, 1, 1, 1, 1, 0],\n",
    "    [0, 0, 0, 1, 1, 1, 1, 0],\n",
    "    [1, 1, 1, 1, 1, 1, 1, 0],\n",
    "    [1, 1, 1, 1, 1, 1, 1, 0],\n",
    "    [1, 1, 1, 1, 0, 1, 1, 0],\n",
    "    [0, 0, 0, 1, 1, 1, 1, 0],\n",
    "    [0, 0, 0, 1, 1, 1, 1, 0]\n",
    "]\n",
    "\n",
    "root = build_quadtree(image)\n",
    "regions_with_ones = find_regions_with_ones(root)\n",
    "    "
   ]
  },
  {
   "cell_type": "code",
   "execution_count": null,
   "id": "a0338925-29d1-436b-ba7a-ba19ff310164",
   "metadata": {},
   "outputs": [],
   "source": [
    "#### class QuadTreeNode:\n",
    "    def __init__(self, x, y, size, color):\n",
    "        self.x = x\n",
    "        self.y = y\n",
    "        self.size = size\n",
    "        self.color = color\n",
    "        self.children = [None, None, None, None]\n",
    "\n",
    "    def is_leaf(self):\n",
    "        return all(child is None for child in self.children)\n",
    "\n",
    "    def split(self):\n",
    "        half_size = self.size // 2\n",
    "        self.children = [\n",
    "            QuadTreeNode(self.x, self.y, half_size, self.color),\n",
    "            QuadTreeNode(self.x + half_size, self.y, half_size, self.color),\n",
    "            QuadTreeNode(self.x, self.y + half_size, half_size, self.color),\n",
    "            QuadTreeNode(self.x + half_size, self.y + half_size, half_size, self.color)\n",
    "        ]\n",
    "\n",
    "    def __str__(self):\n",
    "        return f\"Node(x={self.x}, y={self.y}, size={self.size}, color={self.color})\"\n",
    "\n",
    "def build_quadtree(image, min_size=1):\n",
    "    def _build_quadtree(x, y, size):\n",
    "        if size < min_size:\n",
    "            return QuadTreeNode(x, y, size, image[y][x])\n",
    "\n",
    "        half_size = size // 2\n",
    "        node = QuadTreeNode(x, y, size, image[y][x])\n",
    "\n",
    "        # Check if the node should be split\n",
    "        if any(image[y][x] != image[y2][x2] for y2 in range(y, y + size) for x2 in range(x, x + size)):\n",
    "            node.split()\n",
    "            for i in range(4):\n",
    "                child_x = x + (i % 2) * half_size\n",
    "                child_y = y + (i // 2) * half_size\n",
    "                node.children[i] = _build_quadtree(child_x, child_y, half_size)\n",
    "\n",
    "        return node\n",
    "\n",
    "    return _build_quadtree(0, 0, len(image))\n",
    "\n",
    "\n",
    "\n",
    "#root = build_quadtree(image)\n",
    "\n",
    "def find_regions_with_ones(node):\n",
    "    regions = []\n",
    "\n",
    "    if node.is_leaf():\n",
    "        if node.color == 1:\n",
    "            regions.append((node.x, node.y, node.size, node.size))\n",
    "        return regions\n",
    "\n",
    "    for child in node.children:\n",
    "        if child is not None:\n",
    "            regions.extend(find_regions_with_ones(child))\n",
    "\n",
    "    return regions\n",
    "\n",
    "\n",
    "####### Dummy Image\n",
    "image = [\n",
    "    [0, 0, 0, 1, 1, 1, 1, 0],\n",
    "    [0, 0, 0, 1, 1, 1, 1, 0],\n",
    "    [0, 0, 0, 1, 1, 1, 1, 0],\n",
    "    [1, 1, 1, 1, 1, 1, 1, 0],\n",
    "    [1, 1, 1, 1, 1, 1, 1, 0],\n",
    "    [1, 1, 1, 1, 0, 1, 1, 0],\n",
    "    [0, 0, 0, 1, 1, 1, 1, 0],\n",
    "    [0, 0, 0, 1, 1, 1, 1, 0]\n",
    "]\n",
    "\n",
    "root = build_quadtree(image)\n",
    "regions_with_ones = find_regions_with_ones(root)\n",
    "\n",
    "for x, y, width, height in regions_with_ones:\n",
    "    print(f\"Region: x={x}, y={y}, width={width}, height={height}\")\n",
    "    "
   ]
  },
  {
   "cell_type": "markdown",
   "id": "93186d8a-ea1e-4b8d-8ddb-81cc985e09f0",
   "metadata": {},
   "source": [
    "#### Actual Runtime and Computation Cost for Realistic Images"
   ]
  },
  {
   "cell_type": "code",
   "execution_count": 15,
   "id": "ea493cd2-f5be-4c1c-951d-0d241d680979",
   "metadata": {},
   "outputs": [
    {
     "name": "stdout",
     "output_type": "stream",
     "text": [
      "Size of microscope image: 824456 bytes\n",
      "Size of dye image: 295000 bytes\n"
     ]
    }
   ],
   "source": [
    "import sys\n",
    "\n",
    "image_size = 100000\n",
    "cancer_status = True\n",
    "\n",
    "microscope_image, covered_ratio = Microscope_Image_Generator(image_size)\n",
    "dye_image = generate_dye_image(microscope_image, image_size, cancer_status)\n",
    "\n",
    "print(f\"Size of microscope image: {sys.getsizeof(microscope_image)} bytes\")\n",
    "print(f\"Size of dye image: {sys.getsizeof(dye_image)} bytes\")"
   ]
  },
  {
   "cell_type": "markdown",
   "id": "10bbacb7-e2ab-422c-be6a-6047b3a5f520",
   "metadata": {},
   "source": [
    "Size of microscope image orginally as 100000 x100000, is now compressed to 0.824456 MB </br>\n",
    "Size of Dye image orginally as 100000 x100000, is now compressed to 0.295 MB"
   ]
  },
  {
   "cell_type": "code",
   "execution_count": 14,
   "id": "56f190f0-68b8-482c-8ae6-32aab1be2c75",
   "metadata": {},
   "outputs": [
    {
     "name": "stdout",
     "output_type": "stream",
     "text": [
      "Parasite Detected with cancer: True\n",
      "Execution Time: 39.4471321105957 seconds\n"
     ]
    }
   ],
   "source": [
    "import time\n",
    "start_time = time.time()\n",
    "\n",
    "val = improved_detect_cancer(microscope_image,dye_image)\n",
    "end_time = time.time()\n",
    "execution_time = end_time - start_time\n",
    "print(\"Parasite Detected with cancer:\", val)\n",
    "print(\"Execution Time:\", execution_time, \"seconds\")"
   ]
  },
  {
   "cell_type": "markdown",
   "id": "e8c9b1ca-77c4-4512-9b4e-023bc9e33de8",
   "metadata": {},
   "source": [
    "As we passed status to dye_image as True, our cancer detection method also returns true."
   ]
  },
  {
   "cell_type": "markdown",
   "id": "11e1bac0-1929-4822-b12c-51888163b633",
   "metadata": {},
   "source": [
    "## Question 6"
   ]
  },
  {
   "cell_type": "markdown",
   "id": "5ad792c4-7b3e-4f22-80de-f08bc4c022a8",
   "metadata": {},
   "source": [
    "Stackover flow, medium blogs for Quadtree, RLE and random walks details. </br>\n",
    "Chatgpt, Perplexity, Copilot for debugging and code improvements.</br>\n",
    "LLM as a tool was not used to solve this challenge directly, only it was used to provide suggestions or research.</br>"
   ]
  }
 ],
 "metadata": {
  "kernelspec": {
   "display_name": "Python 3 (ipykernel)",
   "language": "python",
   "name": "python3"
  },
  "language_info": {
   "codemirror_mode": {
    "name": "ipython",
    "version": 3
   },
   "file_extension": ".py",
   "mimetype": "text/x-python",
   "name": "python",
   "nbconvert_exporter": "python",
   "pygments_lexer": "ipython3",
   "version": "3.9.18"
  }
 },
 "nbformat": 4,
 "nbformat_minor": 5
}
